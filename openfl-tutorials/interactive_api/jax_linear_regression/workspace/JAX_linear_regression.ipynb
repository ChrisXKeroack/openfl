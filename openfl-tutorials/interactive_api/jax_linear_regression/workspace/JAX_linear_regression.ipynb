{
 "cells": [
  {
   "cell_type": "code",
   "execution_count": 1,
   "id": "689ee822",
   "metadata": {},
   "outputs": [
    {
     "name": "stdout",
     "output_type": "stream",
     "text": [
      "Requirement already satisfied: absl-py==1.0.0 in /home/sunilach/openflenv/lib/python3.8/site-packages (from -r requirements.txt (line 1)) (1.0.0)\n",
      "Requirement already satisfied: aiohttp==3.8.1 in /home/sunilach/openflenv/lib/python3.8/site-packages (from -r requirements.txt (line 2)) (3.8.1)\n",
      "Requirement already satisfied: aiosignal==1.2.0 in /home/sunilach/openflenv/lib/python3.8/site-packages (from -r requirements.txt (line 3)) (1.2.0)\n",
      "Requirement already satisfied: anyio==3.5.0 in /home/sunilach/openflenv/lib/python3.8/site-packages (from -r requirements.txt (line 4)) (3.5.0)\n",
      "Requirement already satisfied: appdirs==1.4.4 in /home/sunilach/openflenv/lib/python3.8/site-packages (from -r requirements.txt (line 5)) (1.4.4)\n",
      "Requirement already satisfied: argon2-cffi==21.3.0 in /home/sunilach/openflenv/lib/python3.8/site-packages (from -r requirements.txt (line 6)) (21.3.0)\n",
      "Requirement already satisfied: argon2-cffi-bindings==21.2.0 in /home/sunilach/openflenv/lib/python3.8/site-packages (from -r requirements.txt (line 7)) (21.2.0)\n",
      "Requirement already satisfied: asttokens==2.0.5 in /home/sunilach/openflenv/lib/python3.8/site-packages (from -r requirements.txt (line 8)) (2.0.5)\n",
      "Requirement already satisfied: astunparse==1.6.3 in /home/sunilach/openflenv/lib/python3.8/site-packages (from -r requirements.txt (line 9)) (1.6.3)\n",
      "Requirement already satisfied: async-timeout==4.0.2 in /home/sunilach/openflenv/lib/python3.8/site-packages (from -r requirements.txt (line 10)) (4.0.2)\n",
      "Requirement already satisfied: attrs==21.4.0 in /home/sunilach/openflenv/lib/python3.8/site-packages (from -r requirements.txt (line 11)) (21.4.0)\n",
      "Requirement already satisfied: audioread==2.1.9 in /home/sunilach/openflenv/lib/python3.8/site-packages (from -r requirements.txt (line 12)) (2.1.9)\n",
      "Requirement already satisfied: Babel==2.10.1 in /home/sunilach/openflenv/lib/python3.8/site-packages (from -r requirements.txt (line 13)) (2.10.1)\n",
      "Requirement already satisfied: backcall==0.2.0 in /home/sunilach/openflenv/lib/python3.8/site-packages (from -r requirements.txt (line 14)) (0.2.0)\n",
      "Requirement already satisfied: beautifulsoup4==4.11.1 in /home/sunilach/openflenv/lib/python3.8/site-packages (from -r requirements.txt (line 15)) (4.11.1)\n",
      "Requirement already satisfied: bleach==5.0.0 in /home/sunilach/openflenv/lib/python3.8/site-packages (from -r requirements.txt (line 16)) (5.0.0)\n",
      "Requirement already satisfied: cachetools==5.0.0 in /home/sunilach/openflenv/lib/python3.8/site-packages (from -r requirements.txt (line 17)) (5.0.0)\n",
      "Requirement already satisfied: certifi==2021.10.8 in /home/sunilach/openflenv/lib/python3.8/site-packages (from -r requirements.txt (line 18)) (2021.10.8)\n",
      "Requirement already satisfied: cffi==1.15.0 in /home/sunilach/openflenv/lib/python3.8/site-packages (from -r requirements.txt (line 19)) (1.15.0)\n",
      "Requirement already satisfied: charset-normalizer==2.0.12 in /home/sunilach/openflenv/lib/python3.8/site-packages (from -r requirements.txt (line 20)) (2.0.12)\n",
      "Requirement already satisfied: click==8.0.1 in /home/sunilach/openflenv/lib/python3.8/site-packages (from -r requirements.txt (line 21)) (8.0.1)\n",
      "Requirement already satisfied: cloudpickle==2.0.0 in /home/sunilach/openflenv/lib/python3.8/site-packages (from -r requirements.txt (line 22)) (2.0.0)\n",
      "Requirement already satisfied: colorama==0.4.4 in /home/sunilach/openflenv/lib/python3.8/site-packages (from -r requirements.txt (line 23)) (0.4.4)\n",
      "Requirement already satisfied: commonmark==0.9.1 in /home/sunilach/openflenv/lib/python3.8/site-packages (from -r requirements.txt (line 24)) (0.9.1)\n",
      "Requirement already satisfied: cryptography==37.0.2 in /home/sunilach/openflenv/lib/python3.8/site-packages (from -r requirements.txt (line 25)) (37.0.2)\n",
      "Requirement already satisfied: cycler==0.11.0 in /home/sunilach/openflenv/lib/python3.8/site-packages (from -r requirements.txt (line 26)) (0.11.0)\n",
      "Requirement already satisfied: dataclasses==0.6 in /home/sunilach/openflenv/lib/python3.8/site-packages (from -r requirements.txt (line 27)) (0.6)\n",
      "Requirement already satisfied: datasets==2.2.2 in /home/sunilach/openflenv/lib/python3.8/site-packages (from -r requirements.txt (line 28)) (2.2.2)\n",
      "Requirement already satisfied: debugpy==1.6.0 in /home/sunilach/openflenv/lib/python3.8/site-packages (from -r requirements.txt (line 29)) (1.6.0)\n",
      "Requirement already satisfied: decorator==5.1.1 in /home/sunilach/openflenv/lib/python3.8/site-packages (from -r requirements.txt (line 30)) (5.1.1)\n",
      "Requirement already satisfied: defusedxml==0.7.1 in /home/sunilach/openflenv/lib/python3.8/site-packages (from -r requirements.txt (line 31)) (0.7.1)\n",
      "Requirement already satisfied: dill==0.3.4 in /home/sunilach/openflenv/lib/python3.8/site-packages (from -r requirements.txt (line 32)) (0.3.4)\n",
      "Requirement already satisfied: docker==5.0.3 in /home/sunilach/openflenv/lib/python3.8/site-packages (from -r requirements.txt (line 33)) (5.0.3)\n",
      "Requirement already satisfied: dynaconf==3.1.7 in /home/sunilach/openflenv/lib/python3.8/site-packages (from -r requirements.txt (line 34)) (3.1.7)\n",
      "Requirement already satisfied: entrypoints==0.4 in /home/sunilach/openflenv/lib/python3.8/site-packages (from -r requirements.txt (line 35)) (0.4)\n",
      "Requirement already satisfied: executing==0.8.3 in /home/sunilach/openflenv/lib/python3.8/site-packages (from -r requirements.txt (line 36)) (0.8.3)\n",
      "Requirement already satisfied: fastjsonschema==2.15.3 in /home/sunilach/openflenv/lib/python3.8/site-packages (from -r requirements.txt (line 37)) (2.15.3)\n",
      "Requirement already satisfied: filelock==3.7.0 in /home/sunilach/openflenv/lib/python3.8/site-packages (from -r requirements.txt (line 38)) (3.7.0)\n",
      "Requirement already satisfied: flatbuffers==2.0 in /home/sunilach/openflenv/lib/python3.8/site-packages (from -r requirements.txt (line 39)) (2.0)\n",
      "Requirement already satisfied: flatten-json==0.1.13 in /home/sunilach/openflenv/lib/python3.8/site-packages (from -r requirements.txt (line 40)) (0.1.13)\n",
      "Requirement already satisfied: fonttools==4.33.3 in /home/sunilach/openflenv/lib/python3.8/site-packages (from -r requirements.txt (line 41)) (4.33.3)\n",
      "Requirement already satisfied: frozenlist==1.3.0 in /home/sunilach/openflenv/lib/python3.8/site-packages (from -r requirements.txt (line 42)) (1.3.0)\n",
      "Requirement already satisfied: fsspec==2022.5.0 in /home/sunilach/openflenv/lib/python3.8/site-packages (from -r requirements.txt (line 43)) (2022.5.0)\n",
      "Requirement already satisfied: future==0.18.2 in /home/sunilach/openflenv/lib/python3.8/site-packages (from -r requirements.txt (line 44)) (0.18.2)\n",
      "Requirement already satisfied: gast==0.5.3 in /home/sunilach/openflenv/lib/python3.8/site-packages (from -r requirements.txt (line 45)) (0.5.3)\n",
      "Requirement already satisfied: google-auth==2.6.6 in /home/sunilach/openflenv/lib/python3.8/site-packages (from -r requirements.txt (line 46)) (2.6.6)\n",
      "Requirement already satisfied: google-auth-oauthlib==0.4.6 in /home/sunilach/openflenv/lib/python3.8/site-packages (from -r requirements.txt (line 47)) (0.4.6)\n",
      "Requirement already satisfied: google-pasta==0.2.0 in /home/sunilach/openflenv/lib/python3.8/site-packages (from -r requirements.txt (line 48)) (0.2.0)\n",
      "Requirement already satisfied: grpcio==1.34.1 in /home/sunilach/openflenv/lib/python3.8/site-packages (from -r requirements.txt (line 49)) (1.34.1)\n",
      "Requirement already satisfied: grpcio-tools==1.34.1 in /home/sunilach/openflenv/lib/python3.8/site-packages (from -r requirements.txt (line 50)) (1.34.1)\n",
      "Requirement already satisfied: h5py==3.7.0 in /home/sunilach/openflenv/lib/python3.8/site-packages (from -r requirements.txt (line 51)) (3.7.0)\n",
      "Requirement already satisfied: huggingface-hub==0.7.0 in /home/sunilach/openflenv/lib/python3.8/site-packages (from -r requirements.txt (line 52)) (0.7.0)\n",
      "Requirement already satisfied: idna==3.3 in /home/sunilach/openflenv/lib/python3.8/site-packages (from -r requirements.txt (line 53)) (3.3)\n",
      "Requirement already satisfied: importlib-metadata==4.11.3 in /home/sunilach/openflenv/lib/python3.8/site-packages (from -r requirements.txt (line 54)) (4.11.3)\n",
      "Requirement already satisfied: importlib-resources==5.7.1 in /home/sunilach/openflenv/lib/python3.8/site-packages (from -r requirements.txt (line 55)) (5.7.1)\n",
      "Requirement already satisfied: ipykernel==6.13.0 in /home/sunilach/openflenv/lib/python3.8/site-packages (from -r requirements.txt (line 56)) (6.13.0)\n",
      "Requirement already satisfied: ipython==8.3.0 in /home/sunilach/openflenv/lib/python3.8/site-packages (from -r requirements.txt (line 57)) (8.3.0)\n",
      "Requirement already satisfied: ipython-genutils==0.2.0 in /home/sunilach/openflenv/lib/python3.8/site-packages (from -r requirements.txt (line 58)) (0.2.0)\n",
      "Requirement already satisfied: ipywidgets==7.7.0 in /home/sunilach/openflenv/lib/python3.8/site-packages (from -r requirements.txt (line 59)) (7.7.0)\n",
      "Requirement already satisfied: jax==0.3.13 in /home/sunilach/openflenv/lib/python3.8/site-packages (from -r requirements.txt (line 60)) (0.3.13)\n",
      "Requirement already satisfied: jaxlib==0.3.10 in /home/sunilach/openflenv/lib/python3.8/site-packages (from -r requirements.txt (line 61)) (0.3.10)\n",
      "Requirement already satisfied: jedi==0.18.1 in /home/sunilach/openflenv/lib/python3.8/site-packages (from -r requirements.txt (line 62)) (0.18.1)\n",
      "Requirement already satisfied: Jinja2==3.1.2 in /home/sunilach/openflenv/lib/python3.8/site-packages (from -r requirements.txt (line 63)) (3.1.2)\n",
      "Requirement already satisfied: joblib==1.1.0 in /home/sunilach/openflenv/lib/python3.8/site-packages (from -r requirements.txt (line 64)) (1.1.0)\n",
      "Requirement already satisfied: json5==0.9.8 in /home/sunilach/openflenv/lib/python3.8/site-packages (from -r requirements.txt (line 65)) (0.9.8)\n",
      "Requirement already satisfied: jsonschema==4.5.1 in /home/sunilach/openflenv/lib/python3.8/site-packages (from -r requirements.txt (line 66)) (4.5.1)\n",
      "Requirement already satisfied: jupyter==1.0.0 in /home/sunilach/openflenv/lib/python3.8/site-packages (from -r requirements.txt (line 67)) (1.0.0)\n",
      "Requirement already satisfied: jupyter-client==7.3.1 in /home/sunilach/openflenv/lib/python3.8/site-packages (from -r requirements.txt (line 68)) (7.3.1)\n",
      "Requirement already satisfied: jupyter-console==6.4.3 in /home/sunilach/openflenv/lib/python3.8/site-packages (from -r requirements.txt (line 69)) (6.4.3)\n",
      "Requirement already satisfied: jupyter-core==4.10.0 in /home/sunilach/openflenv/lib/python3.8/site-packages (from -r requirements.txt (line 70)) (4.10.0)\n",
      "Requirement already satisfied: jupyter-server==1.17.0 in /home/sunilach/openflenv/lib/python3.8/site-packages (from -r requirements.txt (line 71)) (1.17.0)\n",
      "Requirement already satisfied: jupyterlab==3.4.0 in /home/sunilach/openflenv/lib/python3.8/site-packages (from -r requirements.txt (line 72)) (3.4.0)\n",
      "Requirement already satisfied: jupyterlab-pygments==0.2.2 in /home/sunilach/openflenv/lib/python3.8/site-packages (from -r requirements.txt (line 73)) (0.2.2)\n",
      "Requirement already satisfied: jupyterlab-server==2.13.0 in /home/sunilach/openflenv/lib/python3.8/site-packages (from -r requirements.txt (line 74)) (2.13.0)\n",
      "Requirement already satisfied: jupyterlab-widgets==1.1.0 in /home/sunilach/openflenv/lib/python3.8/site-packages (from -r requirements.txt (line 75)) (1.1.0)\n",
      "Requirement already satisfied: keras==2.8.0 in /home/sunilach/openflenv/lib/python3.8/site-packages (from -r requirements.txt (line 76)) (2.8.0)\n",
      "Requirement already satisfied: Keras-Preprocessing==1.1.2 in /home/sunilach/openflenv/lib/python3.8/site-packages (from -r requirements.txt (line 77)) (1.1.2)\n",
      "Requirement already satisfied: kiwisolver==1.4.2 in /home/sunilach/openflenv/lib/python3.8/site-packages (from -r requirements.txt (line 78)) (1.4.2)\n",
      "Requirement already satisfied: libclang==14.0.1 in /home/sunilach/openflenv/lib/python3.8/site-packages (from -r requirements.txt (line 79)) (14.0.1)\n",
      "Requirement already satisfied: librosa==0.9.1 in /home/sunilach/openflenv/lib/python3.8/site-packages (from -r requirements.txt (line 80)) (0.9.1)\n",
      "Requirement already satisfied: llvmlite==0.38.1 in /home/sunilach/openflenv/lib/python3.8/site-packages (from -r requirements.txt (line 81)) (0.38.1)\n",
      "Requirement already satisfied: Markdown==3.3.7 in /home/sunilach/openflenv/lib/python3.8/site-packages (from -r requirements.txt (line 82)) (3.3.7)\n",
      "Requirement already satisfied: MarkupSafe==2.1.1 in /home/sunilach/openflenv/lib/python3.8/site-packages (from -r requirements.txt (line 83)) (2.1.1)\n",
      "Requirement already satisfied: matplotlib==3.5.2 in /home/sunilach/openflenv/lib/python3.8/site-packages (from -r requirements.txt (line 84)) (3.5.2)\n",
      "Requirement already satisfied: matplotlib-inline==0.1.3 in /home/sunilach/openflenv/lib/python3.8/site-packages (from -r requirements.txt (line 85)) (0.1.3)\n",
      "Requirement already satisfied: mistune==0.8.4 in /home/sunilach/openflenv/lib/python3.8/site-packages (from -r requirements.txt (line 86)) (0.8.4)\n",
      "Requirement already satisfied: multidict==6.0.2 in /home/sunilach/openflenv/lib/python3.8/site-packages (from -r requirements.txt (line 87)) (6.0.2)\n",
      "Requirement already satisfied: multiprocess==0.70.13 in /home/sunilach/openflenv/lib/python3.8/site-packages (from -r requirements.txt (line 88)) (0.70.13)\n",
      "Requirement already satisfied: nbclassic==0.3.7 in /home/sunilach/openflenv/lib/python3.8/site-packages (from -r requirements.txt (line 89)) (0.3.7)\n",
      "Requirement already satisfied: nbclient==0.6.3 in /home/sunilach/openflenv/lib/python3.8/site-packages (from -r requirements.txt (line 90)) (0.6.3)\n",
      "Requirement already satisfied: nbconvert==6.5.0 in /home/sunilach/openflenv/lib/python3.8/site-packages (from -r requirements.txt (line 91)) (6.5.0)\n",
      "Requirement already satisfied: nbformat==5.4.0 in /home/sunilach/openflenv/lib/python3.8/site-packages (from -r requirements.txt (line 92)) (5.4.0)\n",
      "Requirement already satisfied: nest-asyncio==1.5.5 in /home/sunilach/openflenv/lib/python3.8/site-packages (from -r requirements.txt (line 93)) (1.5.5)\n",
      "Requirement already satisfied: notebook==6.4.11 in /home/sunilach/openflenv/lib/python3.8/site-packages (from -r requirements.txt (line 94)) (6.4.11)\n",
      "Requirement already satisfied: notebook-shim==0.1.0 in /home/sunilach/openflenv/lib/python3.8/site-packages (from -r requirements.txt (line 95)) (0.1.0)\n",
      "Requirement already satisfied: numba==0.55.2 in /home/sunilach/openflenv/lib/python3.8/site-packages (from -r requirements.txt (line 96)) (0.55.2)\n",
      "Requirement already satisfied: numpy==1.22.3 in /home/sunilach/openflenv/lib/python3.8/site-packages (from -r requirements.txt (line 97)) (1.22.3)\n",
      "Requirement already satisfied: oauthlib==3.2.0 in /home/sunilach/openflenv/lib/python3.8/site-packages (from -r requirements.txt (line 98)) (3.2.0)\n",
      "Requirement already satisfied: openfl==1.3 in /home/sunilach/openflenv/lib/python3.8/site-packages (from -r requirements.txt (line 99)) (1.3)\n",
      "Requirement already satisfied: opt-einsum==3.3.0 in /home/sunilach/openflenv/lib/python3.8/site-packages (from -r requirements.txt (line 100)) (3.3.0)\n",
      "Requirement already satisfied: packaging==21.3 in /home/sunilach/openflenv/lib/python3.8/site-packages (from -r requirements.txt (line 101)) (21.3)\n",
      "Requirement already satisfied: pandas==1.4.2 in /home/sunilach/openflenv/lib/python3.8/site-packages (from -r requirements.txt (line 102)) (1.4.2)\n",
      "Requirement already satisfied: pandocfilters==1.5.0 in /home/sunilach/openflenv/lib/python3.8/site-packages (from -r requirements.txt (line 103)) (1.5.0)\n",
      "Requirement already satisfied: parso==0.8.3 in /home/sunilach/openflenv/lib/python3.8/site-packages (from -r requirements.txt (line 104)) (0.8.3)\n",
      "Requirement already satisfied: pexpect==4.8.0 in /home/sunilach/openflenv/lib/python3.8/site-packages (from -r requirements.txt (line 105)) (4.8.0)\n",
      "Requirement already satisfied: pickleshare==0.7.5 in /home/sunilach/openflenv/lib/python3.8/site-packages (from -r requirements.txt (line 106)) (0.7.5)\n",
      "Requirement already satisfied: Pillow==9.1.1 in /home/sunilach/openflenv/lib/python3.8/site-packages (from -r requirements.txt (line 107)) (9.1.1)\n",
      "Requirement already satisfied: pip==20.0.2 in /home/sunilach/openflenv/lib/python3.8/site-packages (from -r requirements.txt (line 108)) (20.0.2)\n",
      "Requirement already satisfied: pooch==1.6.0 in /home/sunilach/openflenv/lib/python3.8/site-packages (from -r requirements.txt (line 109)) (1.6.0)\n",
      "Requirement already satisfied: prometheus-client==0.14.1 in /home/sunilach/openflenv/lib/python3.8/site-packages (from -r requirements.txt (line 110)) (0.14.1)\n",
      "Requirement already satisfied: prompt-toolkit==3.0.29 in /home/sunilach/openflenv/lib/python3.8/site-packages (from -r requirements.txt (line 111)) (3.0.29)\n",
      "Requirement already satisfied: protobuf==3.20.1 in /home/sunilach/openflenv/lib/python3.8/site-packages (from -r requirements.txt (line 112)) (3.20.1)\n",
      "Requirement already satisfied: psutil==5.9.0 in /home/sunilach/openflenv/lib/python3.8/site-packages (from -r requirements.txt (line 113)) (5.9.0)\n",
      "Requirement already satisfied: ptyprocess==0.7.0 in /home/sunilach/openflenv/lib/python3.8/site-packages (from -r requirements.txt (line 114)) (0.7.0)\n",
      "Requirement already satisfied: pure-eval==0.2.2 in /home/sunilach/openflenv/lib/python3.8/site-packages (from -r requirements.txt (line 115)) (0.2.2)\n",
      "Requirement already satisfied: pyarrow==8.0.0 in /home/sunilach/openflenv/lib/python3.8/site-packages (from -r requirements.txt (line 116)) (8.0.0)\n",
      "Requirement already satisfied: pyasn1==0.4.8 in /home/sunilach/openflenv/lib/python3.8/site-packages (from -r requirements.txt (line 117)) (0.4.8)\n",
      "Requirement already satisfied: pyasn1-modules==0.2.8 in /home/sunilach/openflenv/lib/python3.8/site-packages (from -r requirements.txt (line 118)) (0.2.8)\n",
      "Requirement already satisfied: pycparser==2.21 in /home/sunilach/openflenv/lib/python3.8/site-packages (from -r requirements.txt (line 119)) (2.21)\n",
      "Requirement already satisfied: Pygments==2.12.0 in /home/sunilach/openflenv/lib/python3.8/site-packages (from -r requirements.txt (line 120)) (2.12.0)\n",
      "Requirement already satisfied: pynvml==11.4.1 in /home/sunilach/openflenv/lib/python3.8/site-packages (from -r requirements.txt (line 121)) (11.4.1)\n",
      "Requirement already satisfied: pyparsing==3.0.9 in /home/sunilach/openflenv/lib/python3.8/site-packages (from -r requirements.txt (line 122)) (3.0.9)\n",
      "Requirement already satisfied: pyrsistent==0.18.1 in /home/sunilach/openflenv/lib/python3.8/site-packages (from -r requirements.txt (line 123)) (0.18.1)\n",
      "Requirement already satisfied: python-dateutil==2.8.2 in /home/sunilach/openflenv/lib/python3.8/site-packages (from -r requirements.txt (line 124)) (2.8.2)\n",
      "Requirement already satisfied: pytz==2022.1 in /home/sunilach/openflenv/lib/python3.8/site-packages (from -r requirements.txt (line 125)) (2022.1)\n",
      "Requirement already satisfied: PyYAML==6.0 in /home/sunilach/openflenv/lib/python3.8/site-packages (from -r requirements.txt (line 126)) (6.0)\n",
      "Requirement already satisfied: pyzmq==22.3.0 in /home/sunilach/openflenv/lib/python3.8/site-packages (from -r requirements.txt (line 127)) (22.3.0)\n",
      "Requirement already satisfied: qtconsole==5.3.0 in /home/sunilach/openflenv/lib/python3.8/site-packages (from -r requirements.txt (line 128)) (5.3.0)\n",
      "Requirement already satisfied: QtPy==2.1.0 in /home/sunilach/openflenv/lib/python3.8/site-packages (from -r requirements.txt (line 129)) (2.1.0)\n",
      "Requirement already satisfied: regex==2022.4.24 in /home/sunilach/openflenv/lib/python3.8/site-packages (from -r requirements.txt (line 130)) (2022.4.24)\n",
      "Requirement already satisfied: requests==2.27.1 in /home/sunilach/openflenv/lib/python3.8/site-packages (from -r requirements.txt (line 131)) (2.27.1)\n",
      "Requirement already satisfied: requests-oauthlib==1.3.1 in /home/sunilach/openflenv/lib/python3.8/site-packages (from -r requirements.txt (line 132)) (1.3.1)\n",
      "Requirement already satisfied: resampy==0.2.2 in /home/sunilach/openflenv/lib/python3.8/site-packages (from -r requirements.txt (line 133)) (0.2.2)\n",
      "Requirement already satisfied: responses==0.18.0 in /home/sunilach/openflenv/lib/python3.8/site-packages (from -r requirements.txt (line 134)) (0.18.0)\n",
      "Requirement already satisfied: rich==9.1.0 in /home/sunilach/openflenv/lib/python3.8/site-packages (from -r requirements.txt (line 135)) (9.1.0)\n",
      "Requirement already satisfied: rsa==4.8 in /home/sunilach/openflenv/lib/python3.8/site-packages (from -r requirements.txt (line 136)) (4.8)\n",
      "Requirement already satisfied: sacremoses==0.0.53 in /home/sunilach/openflenv/lib/python3.8/site-packages (from -r requirements.txt (line 137)) (0.0.53)\n",
      "Requirement already satisfied: scikit-learn==1.0.2 in /home/sunilach/openflenv/lib/python3.8/site-packages (from -r requirements.txt (line 138)) (1.0.2)\n",
      "Requirement already satisfied: scipy==1.8.0 in /home/sunilach/openflenv/lib/python3.8/site-packages (from -r requirements.txt (line 139)) (1.8.0)\n",
      "Requirement already satisfied: Send2Trash==1.8.0 in /home/sunilach/openflenv/lib/python3.8/site-packages (from -r requirements.txt (line 140)) (1.8.0)\n",
      "Requirement already satisfied: setuptools==44.0.0 in /home/sunilach/openflenv/lib/python3.8/site-packages (from -r requirements.txt (line 141)) (44.0.0)\n",
      "Requirement already satisfied: six==1.16.0 in /home/sunilach/openflenv/lib/python3.8/site-packages (from -r requirements.txt (line 142)) (1.16.0)\n",
      "Requirement already satisfied: sniffio==1.2.0 in /home/sunilach/openflenv/lib/python3.8/site-packages (from -r requirements.txt (line 143)) (1.2.0)\n",
      "Requirement already satisfied: SoundFile==0.10.3.post1 in /home/sunilach/openflenv/lib/python3.8/site-packages (from -r requirements.txt (line 144)) (0.10.3.post1)\n",
      "Requirement already satisfied: soupsieve==2.3.2.post1 in /home/sunilach/openflenv/lib/python3.8/site-packages (from -r requirements.txt (line 145)) (2.3.2.post1)\n",
      "Requirement already satisfied: stack-data==0.2.0 in /home/sunilach/openflenv/lib/python3.8/site-packages (from -r requirements.txt (line 146)) (0.2.0)\n",
      "Requirement already satisfied: tensorboard==2.9.0 in /home/sunilach/openflenv/lib/python3.8/site-packages (from -r requirements.txt (line 147)) (2.9.0)\n",
      "Requirement already satisfied: tensorboard-data-server==0.6.1 in /home/sunilach/openflenv/lib/python3.8/site-packages (from -r requirements.txt (line 148)) (0.6.1)\n",
      "Requirement already satisfied: tensorboard-plugin-wit==1.8.1 in /home/sunilach/openflenv/lib/python3.8/site-packages (from -r requirements.txt (line 149)) (1.8.1)\n",
      "Requirement already satisfied: tensorboardX==2.5 in /home/sunilach/openflenv/lib/python3.8/site-packages (from -r requirements.txt (line 150)) (2.5)\n",
      "Requirement already satisfied: tensorflow==2.8.0 in /home/sunilach/openflenv/lib/python3.8/site-packages (from -r requirements.txt (line 151)) (2.8.0)\n",
      "Requirement already satisfied: tensorflow-io-gcs-filesystem==0.26.0 in /home/sunilach/openflenv/lib/python3.8/site-packages (from -r requirements.txt (line 152)) (0.26.0)\n",
      "Requirement already satisfied: termcolor==1.1.0 in /home/sunilach/openflenv/lib/python3.8/site-packages (from -r requirements.txt (line 153)) (1.1.0)\n",
      "Requirement already satisfied: terminado==0.13.3 in /home/sunilach/openflenv/lib/python3.8/site-packages (from -r requirements.txt (line 154)) (0.13.3)\n",
      "Requirement already satisfied: tf-estimator-nightly==2.8.0.dev2021122109 in /home/sunilach/openflenv/lib/python3.8/site-packages (from -r requirements.txt (line 155)) (2.8.0.dev2021122109)\n",
      "Requirement already satisfied: threadpoolctl==3.1.0 in /home/sunilach/openflenv/lib/python3.8/site-packages (from -r requirements.txt (line 156)) (3.1.0)\n",
      "Requirement already satisfied: tinycss2==1.1.1 in /home/sunilach/openflenv/lib/python3.8/site-packages (from -r requirements.txt (line 157)) (1.1.1)\n",
      "Requirement already satisfied: tokenizers==0.10.3 in /home/sunilach/openflenv/lib/python3.8/site-packages (from -r requirements.txt (line 158)) (0.10.3)\n",
      "Requirement already satisfied: torch==1.7.0 in /home/sunilach/openflenv/lib/python3.8/site-packages (from -r requirements.txt (line 159)) (1.7.0)\n",
      "Requirement already satisfied: torchvision==0.8.1 in /home/sunilach/openflenv/lib/python3.8/site-packages (from -r requirements.txt (line 160)) (0.8.1)\n",
      "Requirement already satisfied: tornado==6.1 in /home/sunilach/openflenv/lib/python3.8/site-packages (from -r requirements.txt (line 161)) (6.1)\n",
      "Requirement already satisfied: tqdm==4.64.0 in /home/sunilach/openflenv/lib/python3.8/site-packages (from -r requirements.txt (line 162)) (4.64.0)\n",
      "Requirement already satisfied: traitlets==5.2.0 in /home/sunilach/openflenv/lib/python3.8/site-packages (from -r requirements.txt (line 163)) (5.2.0)\n",
      "Requirement already satisfied: transformers==4.11.3 in /home/sunilach/openflenv/lib/python3.8/site-packages (from -r requirements.txt (line 164)) (4.11.3)\n",
      "Requirement already satisfied: typing-extensions==3.10.0.2 in /home/sunilach/openflenv/lib/python3.8/site-packages (from -r requirements.txt (line 165)) (3.10.0.2)\n",
      "Requirement already satisfied: urllib3==1.26.9 in /home/sunilach/openflenv/lib/python3.8/site-packages (from -r requirements.txt (line 166)) (1.26.9)\n",
      "Requirement already satisfied: wcwidth==0.2.5 in /home/sunilach/openflenv/lib/python3.8/site-packages (from -r requirements.txt (line 167)) (0.2.5)\n",
      "Requirement already satisfied: webencodings==0.5.1 in /home/sunilach/openflenv/lib/python3.8/site-packages (from -r requirements.txt (line 168)) (0.5.1)\n",
      "Requirement already satisfied: websocket-client==1.3.2 in /home/sunilach/openflenv/lib/python3.8/site-packages (from -r requirements.txt (line 169)) (1.3.2)\n",
      "Requirement already satisfied: Werkzeug==2.1.2 in /home/sunilach/openflenv/lib/python3.8/site-packages (from -r requirements.txt (line 170)) (2.1.2)\n",
      "Requirement already satisfied: wheel==0.34.2 in /home/sunilach/openflenv/lib/python3.8/site-packages (from -r requirements.txt (line 171)) (0.34.2)\n",
      "Requirement already satisfied: widgetsnbextension==3.6.0 in /home/sunilach/openflenv/lib/python3.8/site-packages (from -r requirements.txt (line 172)) (3.6.0)\n",
      "Requirement already satisfied: wrapt==1.14.1 in /home/sunilach/openflenv/lib/python3.8/site-packages (from -r requirements.txt (line 173)) (1.14.1)\n",
      "Requirement already satisfied: xxhash==3.0.0 in /home/sunilach/openflenv/lib/python3.8/site-packages (from -r requirements.txt (line 174)) (3.0.0)\n",
      "Requirement already satisfied: yarl==1.7.2 in /home/sunilach/openflenv/lib/python3.8/site-packages (from -r requirements.txt (line 175)) (1.7.2)\n",
      "Requirement already satisfied: zipp==3.8.0 in /home/sunilach/openflenv/lib/python3.8/site-packages (from -r requirements.txt (line 176)) (3.8.0)\n"
     ]
    }
   ],
   "source": [
    "!pip install -r requirements.txt"
   ]
  },
  {
   "cell_type": "markdown",
   "id": "d63e64c6-9955-4afc-8d04-d8c85bb28edc",
   "metadata": {},
   "source": [
    "# Linear Regression with Numpy and OpenFL"
   ]
  },
  {
   "cell_type": "code",
   "execution_count": 2,
   "id": "6c9eee14-22a1-4d48-a7da-e68d01037cd4",
   "metadata": {},
   "outputs": [],
   "source": [
    "from typing import List, Union\n",
    "import numpy as np\n",
    "import random\n",
    "import time\n",
    "import matplotlib.pyplot as plt\n",
    "%matplotlib inline\n",
    "from matplotlib.pylab import rcParams\n",
    "rcParams['figure.figsize'] = 7, 5"
   ]
  },
  {
   "cell_type": "markdown",
   "id": "c4b334ef-6a72-4b82-b978-1401973d0512",
   "metadata": {
    "tags": []
   },
   "source": [
    "# We will use MSE as loss function and Ridge weights regularization\n",
    "![image.png](https://www.analyticsvidhya.com/wp-content/uploads/2016/01/eq5-1.png)"
   ]
  },
  {
   "cell_type": "code",
   "execution_count": 3,
   "id": "c001077d-e9a3-4e4a-abee-0d5742064088",
   "metadata": {},
   "outputs": [],
   "source": [
    "import jax\n",
    "import jax.numpy as jnp\n",
    "from sklearn.datasets import make_regression\n",
    "from sklearn.model_selection import train_test_split\n",
    "\n",
    "# create a dataset with n_features\n",
    "X, y = make_regression(n_samples = 50000, n_features=3)\n"
   ]
  },
  {
   "cell_type": "code",
   "execution_count": 4,
   "id": "17f3e7f1-27d9-4eb7-bdc3-7a5125288553",
   "metadata": {},
   "outputs": [],
   "source": [
    "X, X_test, y, y_test = train_test_split(X, y)"
   ]
  },
  {
   "cell_type": "code",
   "execution_count": 5,
   "id": "b054bd70-1832-410f-803a-019c8d87f599",
   "metadata": {},
   "outputs": [],
   "source": [
    "def mse_loss_function1(W, X, y):\n",
    "    y_pred = jnp.dot(X, W)\n",
    "    mse_error = y_pred - y\n",
    "    return jnp.mean(jnp.square(mse_error))\n",
    "\n",
    "def mse_loss_function2(W, X, Y):\n",
    "    def squared_error(x, y):\n",
    "        y_pred = jnp.dot(x, W)\n",
    "        return jnp.inner(y-y_pred, y-y_pred)\n",
    "    vectorized_square_error = jax.vmap(squared_error)\n",
    "    return jnp.mean(vectorized_square_error(X, Y), axis=0)\n",
    "\n",
    "# @jax.jit\n",
    "def update(W, x, y, lr):\n",
    "    W = W - lr * jax.grad(mse_loss_function2, 0)(W, x, y)\n",
    "    return W"
   ]
  },
  {
   "cell_type": "code",
   "execution_count": 6,
   "id": "f27639ff-4303-49fc-a82b-56e4759665f4",
   "metadata": {},
   "outputs": [],
   "source": [
    "class LinearRegression:\n",
    "    def __init__(self, n_feat: int) -> None:\n",
    "        self.weights = jnp.ones(n_feat)\n",
    "    \n",
    "    def mse(self, X, y) -> float:\n",
    "        return mse_loss_function2(self.weights, X, y)\n",
    " \n",
    "    def predict(self, X):\n",
    "        return jnp.dot(X, self.weights)\n",
    "    \n",
    "    def fit(self, X, Y, n_epochs, lr, silent):\n",
    "        \n",
    "        start_time = time.time()\n",
    "        print('Training Loss at start - W,b: ', self.mse(X, Y))\n",
    "        \n",
    "        for i in range(n_epochs):\n",
    "            self.weights = update(self.weights, X, y, lr)\n",
    "            print(str(i), 'Training Loss: ', self.mse(X, Y))\n",
    "\n",
    "        print(\"--- %s seconds ---\" % (time.time() - start_time))\n",
    "\n",
    "    "
   ]
  },
  {
   "cell_type": "code",
   "execution_count": 7,
   "id": "37fbf638-68b1-4ab9-9686-b25075def1e4",
   "metadata": {},
   "outputs": [
    {
     "data": {
      "text/plain": [
       "(3,)"
      ]
     },
     "execution_count": 7,
     "metadata": {},
     "output_type": "execute_result"
    }
   ],
   "source": [
    "X.shape[1:]"
   ]
  },
  {
   "cell_type": "code",
   "execution_count": 8,
   "id": "ffefca2b-d7f6-4111-8872-c017c182a2de",
   "metadata": {
    "tags": []
   },
   "outputs": [],
   "source": [
    "# lr_model = LinearRegression(X.shape[1:])\n",
    "# lr = 0.001\n",
    "# epochs = 5001\n",
    "\n",
    "# print(f\"Initil Testset MSE: {lr_model.mse(X_test,y_test)}\")\n",
    "# lr_model.fit(X[:,np.newaxis],y, epochs, lr, silent=True)\n",
    "# print(f\"Final Testset MSE: {lr_model.mse(X_test,y_test)}\")\n",
    "# print(f\"Final parameters: {lr_model.weights}\")"
   ]
  },
  {
   "cell_type": "markdown",
   "id": "ffd4d2d7-5537-496a-88c1-301da87d979c",
   "metadata": {
    "tags": []
   },
   "source": [
    "# Now we run the same training on federated data"
   ]
  },
  {
   "cell_type": "markdown",
   "id": "09cf7090-da51-4f4e-9d28-2a5c6e3bca02",
   "metadata": {},
   "source": [
    "## Connect to a Federation"
   ]
  },
  {
   "cell_type": "code",
   "execution_count": 9,
   "id": "1b3c0039-e1f7-4047-b98b-a2d4bd42f015",
   "metadata": {},
   "outputs": [],
   "source": [
    "# Create a federation\n",
    "from openfl.interface.interactive_api.federation import Federation\n",
    "\n",
    "# please use the same identificator that was used in signed certificate\n",
    "client_id = 'frontend'\n",
    "director_node_fqdn = 'localhost'\n",
    "director_port = 50049\n",
    "\n",
    "federation = Federation(\n",
    "    client_id=client_id,\n",
    "    director_node_fqdn=director_node_fqdn,\n",
    "    director_port=director_port,\n",
    "    tls=False\n",
    ")"
   ]
  },
  {
   "cell_type": "code",
   "execution_count": 10,
   "id": "7815120e-b704-4a7d-a65a-3c7542023ead",
   "metadata": {
    "tags": []
   },
   "outputs": [
    {
     "data": {
      "text/plain": [
       "{'envoy_instance': {'shard_info': node_info {\n",
       "    name: \"envoy_instance\"\n",
       "  }\n",
       "  shard_description: \"Allowed dataset types are `train` and `val`\"\n",
       "  sample_shape: \"3\"\n",
       "  target_shape: \"1\",\n",
       "  'is_online': True,\n",
       "  'is_experiment_running': False,\n",
       "  'last_updated': '2022-06-02 21:44:20',\n",
       "  'current_time': '2022-06-02 21:44:21',\n",
       "  'valid_duration': seconds: 10,\n",
       "  'experiment_name': 'ExperimentName Mock'}}"
      ]
     },
     "execution_count": 10,
     "metadata": {},
     "output_type": "execute_result"
    }
   ],
   "source": [
    "shard_registry = federation.get_shard_registry()\n",
    "shard_registry"
   ]
  },
  {
   "cell_type": "markdown",
   "id": "b011dd95-64a7-4a8b-91ec-e61cdf885bbb",
   "metadata": {},
   "source": [
    "### Data"
   ]
  },
  {
   "cell_type": "code",
   "execution_count": 11,
   "id": "b1985ac9-a2b1-4561-a962-6adfe35c3b97",
   "metadata": {},
   "outputs": [],
   "source": [
    "from openfl.interface.interactive_api.experiment import TaskInterface, DataInterface, ModelInterface, FLExperiment\n",
    "\n",
    "class LinRegDataSet(DataInterface):\n",
    "    def __init__(self, **kwargs):\n",
    "        \"\"\"Initialize DataLoader.\"\"\"\n",
    "        self.kwargs = kwargs\n",
    "        pass\n",
    "\n",
    "    @property\n",
    "    def shard_descriptor(self):\n",
    "        \"\"\"Return shard descriptor.\"\"\"\n",
    "        return self._shard_descriptor\n",
    "    \n",
    "    @shard_descriptor.setter\n",
    "    def shard_descriptor(self, shard_descriptor):\n",
    "        \"\"\"\n",
    "        Describe per-collaborator procedures or sharding.\n",
    "        \n",
    "        This method will be called during a collaborator initialization.\n",
    "        Local shard_descriptor  will be set by Envoy.\n",
    "        \"\"\"\n",
    "        self._shard_descriptor = shard_descriptor\n",
    "        self.train_set = shard_descriptor.get_dataset(\"train\")\n",
    "        self.val_set = shard_descriptor.get_dataset(\"val\")\n",
    "\n",
    "    def get_train_loader(self, **kwargs):\n",
    "        \"\"\"Output of this method will be provided to tasks with optimizer in contract.\"\"\"\n",
    "        return self.train_set\n",
    "\n",
    "    def get_valid_loader(self, **kwargs):\n",
    "        \"\"\"Output of this method will be provided to tasks without optimizer in contract.\"\"\"\n",
    "        return self.val_set\n",
    "\n",
    "    def get_train_data_size(self):\n",
    "        \"\"\"Information for aggregation.\"\"\"\n",
    "        return len(self.train_set)\n",
    "\n",
    "    def get_valid_data_size(self):\n",
    "        \"\"\"Information for aggregation.\"\"\"\n",
    "        return len(self.val_set)\n",
    "    \n",
    "lin_reg_dataset = LinRegDataSet()"
   ]
  },
  {
   "cell_type": "markdown",
   "id": "b8909127-99d1-4dba-86fe-01a1b86585e7",
   "metadata": {},
   "source": [
    "### Model"
   ]
  },
  {
   "cell_type": "code",
   "execution_count": 12,
   "id": "9523c9a2-a259-461f-937f-1fb054bd2886",
   "metadata": {},
   "outputs": [
    {
     "name": "stderr",
     "output_type": "stream",
     "text": [
      "WARNING:absl:No GPU/TPU found, falling back to CPU. (Set TF_CPP_MIN_LOG_LEVEL=0 and rerun for more info.)\n"
     ]
    }
   ],
   "source": [
    "framework_adapter = 'custom_adapter.CustomFrameworkAdapter'\n",
    "fed_model = LinearRegression(X.shape[1:])\n",
    "MI = ModelInterface(model=fed_model, optimizer=None, framework_plugin=framework_adapter)\n",
    "\n",
    "# Save the initial model state\n",
    "initial_model = LinearRegression(X.shape[1:])"
   ]
  },
  {
   "cell_type": "markdown",
   "id": "2e3558bb-b21b-48ac-b07e-43cf75e6907b",
   "metadata": {},
   "source": [
    "### Tasks\n",
    "We need to employ a trick reporting metrics. OpenFL decides which model is the best based on an *increasing* metric."
   ]
  },
  {
   "cell_type": "code",
   "execution_count": 13,
   "id": "f73e1ff9-d54a-49b5-9ce8-8bc72c6a2c6f",
   "metadata": {},
   "outputs": [],
   "source": [
    "TI = TaskInterface()\n",
    "\n",
    "@TI.add_kwargs(**{'lr': 0.01,\n",
    "                   'epochs': 101})\n",
    "@TI.register_fl_task(model='my_model', data_loader='train_data', \\\n",
    "                     device='device', optimizer='optimizer')     \n",
    "def train(my_model, train_data, optimizer, device, lr, epochs):\n",
    "    X, Y = train_data[:,:-1], train_data[:,-1]\n",
    "    my_model.fit(X[:,np.newaxis], Y, epochs, lr, silent=True)\n",
    "    return {'train_MSE': my_model.mse(X, Y),}\n",
    "\n",
    "@TI.register_fl_task(model='my_model', data_loader='val_data', device='device')\n",
    "def validate(my_model, val_data, device):\n",
    "    X, Y = val_data[:,:-1], val_data[:,-1] \n",
    "    return {'validation_MSE': my_model.mse(X, Y),}"
   ]
  },
  {
   "cell_type": "markdown",
   "id": "ee7659cc-6e03-43f5-9078-95707fa0e4d5",
   "metadata": {
    "tags": []
   },
   "source": [
    "### Run"
   ]
  },
  {
   "cell_type": "code",
   "execution_count": 14,
   "id": "749100e8-05ce-418c-a980-545e3beb900b",
   "metadata": {},
   "outputs": [],
   "source": [
    "experiment_name = 'linear_regression_experiment'\n",
    "fl_experiment = FLExperiment(federation=federation, experiment_name=experiment_name,\n",
    "                            )"
   ]
  },
  {
   "cell_type": "code",
   "execution_count": 15,
   "id": "16bf1df7-8ca8-4a5e-a833-47c265c11e05",
   "metadata": {},
   "outputs": [
    {
     "name": "stderr",
     "output_type": "stream",
     "text": [
      "WARNING:openfl.federated.task.task_runner:tried to remove tensor: __opt_state_needed not present in the tensor dict\n",
      "WARNING:openfl.interface.interactive_api.experiment:tried to remove tensor: __opt_state_needed not present in the tensor dict\n"
     ]
    }
   ],
   "source": [
    "fl_experiment.start(model_provider=MI, \n",
    "                    task_keeper=TI,\n",
    "                    data_loader=lin_reg_dataset,\n",
    "                    rounds_to_train=2,)"
   ]
  },
  {
   "cell_type": "code",
   "execution_count": 16,
   "id": "1178d1ea-05e6-46be-ac07-21620bd6ec76",
   "metadata": {
    "tags": []
   },
   "outputs": [],
   "source": [
    "fl_experiment.stream_metrics()"
   ]
  },
  {
   "cell_type": "markdown",
   "id": "af331ccd-66b4-4925-8627-52cf03ceea5e",
   "metadata": {
    "tags": []
   },
   "source": [
    "### Optional: start tensorboard"
   ]
  },
  {
   "cell_type": "code",
   "execution_count": 17,
   "id": "fde4ed4d-dda5-4bab-8dd3-e1ac44f5acf9",
   "metadata": {},
   "outputs": [],
   "source": [
    "%%script /bin/bash --bg\n",
    "tensorboard --host $(hostname --all-fqdns | awk '{print $1}') --logdir logs"
   ]
  },
  {
   "cell_type": "code",
   "execution_count": 19,
   "id": "7aa78602-b66a-4378-bea9-e915f2a1fdd8",
   "metadata": {},
   "outputs": [
    {
     "name": "stdout",
     "output_type": "stream",
     "text": [
      "[ 0.18155295  1.0125793  -0.32810533]\n",
      "[ 0.07516366  1.0139713  -0.5028201 ]\n",
      "last model MSE: 16889.4375\n",
      "best model MSE: 16839.392578125\n"
     ]
    }
   ],
   "source": [
    "last_model = fl_experiment.get_last_model()\n",
    "best_model = fl_experiment.get_best_model()\n",
    "print(best_model.weights)\n",
    "print(last_model.weights)\n",
    "print(f\"last model MSE: {last_model.mse(X,y)}\")\n",
    "print(f\"best model MSE: {best_model.mse(X,y)}\")"
   ]
  },
  {
   "cell_type": "markdown",
   "id": "ae66d688",
   "metadata": {},
   "source": [
    "### Evaluate results"
   ]
  },
  {
   "cell_type": "code",
   "execution_count": null,
   "id": "573417e0",
   "metadata": {},
   "outputs": [],
   "source": [
    "n_cols = 20\n",
    "n_samples = 4\n",
    "interval = 240\n",
    "x_start = 60\n",
    "noise = 0.3\n",
    "\n",
    "X = None\n",
    "\n",
    "for rank in range(n_cols):\n",
    "    np.random.seed(rank)  # Setting seed for reproducibility\n",
    "    x = np.random.rand(n_samples, 1) * interval + x_start\n",
    "    x *= np.pi / 180\n",
    "    X = x if X is None else np.vstack((X,x))\n",
    "    y = np.sin(x) + np.random.normal(0, noise, size=(n_samples, 1))\n",
    "    plt.plot(x,y,'+')\n",
    "    \n",
    "X.sort()    \n",
    "Y_hat = last_model.predict(X)\n",
    "plt.plot(X,Y_hat,'--')"
   ]
  },
  {
   "cell_type": "code",
   "execution_count": null,
   "id": "84e927c8",
   "metadata": {},
   "outputs": [],
   "source": []
  },
  {
   "cell_type": "code",
   "execution_count": null,
   "id": "238e0fd9-c82e-4219-a796-7760be5e649a",
   "metadata": {},
   "outputs": [],
   "source": []
  },
  {
   "cell_type": "code",
   "execution_count": null,
   "id": "66457dd4-1666-424c-9a66-5586cbf51ab8",
   "metadata": {},
   "outputs": [],
   "source": []
  },
  {
   "cell_type": "code",
   "execution_count": null,
   "id": "443dfb1e-0532-48da-9928-9629e810f78d",
   "metadata": {},
   "outputs": [],
   "source": []
  },
  {
   "cell_type": "code",
   "execution_count": null,
   "id": "c7327948-1bc2-4722-aaac-3cf18d29bc76",
   "metadata": {},
   "outputs": [],
   "source": []
  },
  {
   "cell_type": "code",
   "execution_count": null,
   "id": "239dd1d2-7789-450d-91d9-156ef9d07e85",
   "metadata": {},
   "outputs": [],
   "source": []
  },
  {
   "cell_type": "code",
   "execution_count": null,
   "id": "57f7a47c-377b-4b37-b730-93c93d3b0f61",
   "metadata": {},
   "outputs": [],
   "source": []
  },
  {
   "cell_type": "code",
   "execution_count": null,
   "id": "f57d2797-a522-46bf-84bf-2ae794e01443",
   "metadata": {},
   "outputs": [],
   "source": []
  },
  {
   "cell_type": "code",
   "execution_count": null,
   "id": "464d9768-6091-40e3-b1d8-59ef785109c1",
   "metadata": {},
   "outputs": [],
   "source": []
  },
  {
   "cell_type": "code",
   "execution_count": null,
   "id": "e1b6ed64-5389-4d80-a569-55c63b1b088d",
   "metadata": {},
   "outputs": [],
   "source": []
  },
  {
   "cell_type": "code",
   "execution_count": null,
   "id": "4457545e-38dc-4549-8a02-55134d9afcd2",
   "metadata": {},
   "outputs": [],
   "source": []
  },
  {
   "cell_type": "code",
   "execution_count": null,
   "id": "dd0e3225-747a-4030-99bc-c81cd8015cd4",
   "metadata": {},
   "outputs": [],
   "source": []
  },
  {
   "cell_type": "code",
   "execution_count": null,
   "id": "080b0a22-c0ac-411b-8780-9290d183f0bb",
   "metadata": {},
   "outputs": [],
   "source": []
  },
  {
   "cell_type": "code",
   "execution_count": null,
   "id": "3adfe2f8-4c81-4778-bc05-410b40514b3d",
   "metadata": {},
   "outputs": [],
   "source": []
  },
  {
   "cell_type": "code",
   "execution_count": null,
   "id": "2b3b7581-65c3-4e3a-9591-2d9ff703281e",
   "metadata": {},
   "outputs": [],
   "source": []
  },
  {
   "cell_type": "code",
   "execution_count": null,
   "id": "e6bd610b-8677-417b-99fe-709c34f8bdc1",
   "metadata": {},
   "outputs": [],
   "source": []
  },
  {
   "cell_type": "code",
   "execution_count": null,
   "id": "db2070b8-4581-41ce-8253-3e40a2ff0a68",
   "metadata": {},
   "outputs": [],
   "source": []
  },
  {
   "cell_type": "code",
   "execution_count": null,
   "id": "f9c2e60c-8344-4356-9401-ee017f5d2cb5",
   "metadata": {},
   "outputs": [],
   "source": []
  },
  {
   "cell_type": "code",
   "execution_count": null,
   "id": "4c554563-8f23-4815-9cc5-f56341dc3b58",
   "metadata": {},
   "outputs": [],
   "source": []
  },
  {
   "cell_type": "code",
   "execution_count": null,
   "id": "63f3b7bd-56b6-450c-9daa-b30e9955dd5b",
   "metadata": {},
   "outputs": [],
   "source": []
  },
  {
   "cell_type": "code",
   "execution_count": null,
   "id": "322c7d92-ed9e-4e40-b540-bff3f95bcb2e",
   "metadata": {},
   "outputs": [],
   "source": []
  },
  {
   "cell_type": "code",
   "execution_count": null,
   "id": "62de4b9c-13bd-4b55-b492-fb01bcfadc57",
   "metadata": {},
   "outputs": [],
   "source": []
  },
  {
   "cell_type": "code",
   "execution_count": null,
   "id": "e95e86e2-e1c0-4f2c-9431-16dbb806d456",
   "metadata": {},
   "outputs": [],
   "source": []
  }
 ],
 "metadata": {
  "kernelspec": {
   "display_name": "Python 3 (ipykernel)",
   "language": "python",
   "name": "python3"
  },
  "language_info": {
   "codemirror_mode": {
    "name": "ipython",
    "version": 3
   },
   "file_extension": ".py",
   "mimetype": "text/x-python",
   "name": "python",
   "nbconvert_exporter": "python",
   "pygments_lexer": "ipython3",
   "version": "3.8.10"
  }
 },
 "nbformat": 4,
 "nbformat_minor": 5
}
